{
 "cells": [
  {
   "cell_type": "code",
   "execution_count": null,
   "id": "0",
   "metadata": {},
   "outputs": [],
   "source": [
    "%load_ext autoreload\n",
    "%autoreload 2\n",
    "\n",
    "figsize=(14, 4)\n",
    "figsize_large=(14,10)\n",
    "\n",
    "import os\n",
    "import numpy as np\n",
    "import pandas as pd\n",
    "import seaborn as sns\n",
    "import matplotlib.pyplot as plt\n",
    "from sklearn.datasets import make_regression\n",
    "from sklearn.model_selection import train_test_split\n",
    "from sklearn.metrics import mean_squared_error, r2_score, mean_absolute_error\n",
    "import xgboost as xgb"
   ]
  },
  {
   "cell_type": "markdown",
   "id": "1",
   "metadata": {},
   "source": [
    "### Set up synthetic data"
   ]
  },
  {
   "cell_type": "code",
   "execution_count": null,
   "id": "2",
   "metadata": {},
   "outputs": [],
   "source": [
    "X, y = make_regression(\n",
    "\tn_samples=1000,\n",
    "\tn_features=20,\n",
    "\tn_informative=15,\n",
    "\tn_targets=1,\n",
    "\tbias=0.0,\n",
    "\tnoise=20,\n",
    "\trandom_state=42\n",
    ")\n",
    "print(min(y), max(y))"
   ]
  },
  {
   "cell_type": "markdown",
   "id": "3",
   "metadata": {},
   "source": [
    "### Split into train/test set"
   ]
  },
  {
   "cell_type": "code",
   "execution_count": null,
   "id": "4",
   "metadata": {},
   "outputs": [],
   "source": [
    "X_train, X_test, y_train, y_test = train_test_split(\n",
    "\tX, y, test_size=0.2, random_state=42\n",
    ")"
   ]
  },
  {
   "cell_type": "markdown",
   "id": "5",
   "metadata": {},
   "source": [
    "### Train model"
   ]
  },
  {
   "cell_type": "code",
   "execution_count": null,
   "id": "6",
   "metadata": {},
   "outputs": [],
   "source": [
    "model = xgb.XGBRegressor(\n",
    "\tn_estimators=100,\n",
    "\tlearning_rate=0.1,\n",
    "\tmax_depth=5,\n",
    "\trandom_state=42\n",
    ")\n",
    "model.fit(X_train, y_train)\n",
    "preds = model.predict(X_test)\n",
    "print(f\"R² Score: {r2_score(y_test, preds):.4f}\")\n",
    "print(f\"RMSE: {np.sqrt(mean_squared_error(y_test, preds)):.4f}\")\n",
    "print(f\"MAE: {mean_absolute_error(y_test, preds):.4f}\")"
   ]
  },
  {
   "cell_type": "markdown",
   "id": "7",
   "metadata": {},
   "source": [
    "### Visualizations\n",
    "1. Preds vs. actual\n",
    "2. Residuals"
   ]
  },
  {
   "cell_type": "code",
   "execution_count": null,
   "id": "8",
   "metadata": {},
   "outputs": [],
   "source": [
    "fig, axes = plt.subplots(2,2, figsize=figsize_large)\n",
    "\n",
    "axes[0,0].scatter(y_test, preds, alpha=0.6, edgecolors='k')\n",
    "axes[0,0].plot([y_test.min(), y_test.max()], [y_test.min(), y_test.max()],'r--', lw=2, label='Perfect Prediction')\n",
    "axes[0,0].set_xlabel(\"Actual values\", fontsize=11)\n",
    "axes[0,0].set_ylabel(\"Predicted values\", fontsize=11)\n",
    "axes[0,0].set_title(\"Predictions vs. Actual\", fontsize=12, fontweight='bold')\n",
    "axes[0,0].legend()\n",
    "axes[0,0].grid(True, alpha=0.3)\n",
    "\n",
    "\n",
    "residuals = y_test - preds\n",
    "axes[0,1].scatter(preds, residuals, alpha=0.6, edgecolors='k')\n",
    "axes[0,1].axhline(y=0, color='r', linestyle='--', lw=2)\n",
    "axes[0,1].set_xlabel(\"Predicted values\", fontsize=11)\n",
    "axes[0,1].set_ylabel(\"Residuals\", fontsize=11)\n",
    "axes[0,1].set_title(\"Residual plot\", fontsize=12, fontweight='bold')\n",
    "axes[0,1].grid(True, alpha=0.3)\n",
    "\n",
    "top_n=15\n",
    "feature_importances = model.feature_importances_\n",
    "sorted_idx = np.argsort(feature_importances)[-top_n:]\n",
    "axes[1,0].barh(range(top_n), feature_importances[sorted_idx])\n",
    "axes[1,0].set_yticks(range(top_n))\n",
    "axes[1,0].set_yticklabels([f\"Feature_{i}\" for i in sorted_idx])\n",
    "axes[1,0].set_xlabel(\"Importance\", fontsize=11)\n",
    "axes[1,0].set_title(\"Feature importances\", fontsize=12, fontweight='bold')\n",
    "axes[1,0].grid(True, alpha=0.3)\n",
    "\n",
    "#Denne må man gi modellen et eval_set for å få feedback på\n",
    "\"\"\" results = learning_curve = model.evals_result()\n",
    "rmse = results['validation_0']['rmse']\n",
    "epochs = len(rmse)\n",
    "x_axis = range(epochs)\n",
    "axes[1,1].plot(x_axis, rmse, label=\"Test\")\n",
    "axes[1,1].set_xlabel(\"Boosting round\", fontsize=11)\n",
    "axes[1,1].set_ylabel(\"RMSE\", fontsize=11)\n",
    "axes[1,1].set_title(\"Learning curve\", fontsize=12, fontweight='bold')\n",
    "axes[1,1].legend()\n",
    "axes[1,1].grid(True, alpha=0.3) \"\"\"\n"
   ]
  },
  {
   "cell_type": "code",
   "execution_count": null,
   "id": "9",
   "metadata": {},
   "outputs": [],
   "source": []
  }
 ],
 "metadata": {
  "kernelspec": {
   "display_name": "venv (3.13.7)",
   "language": "python",
   "name": "python3"
  },
  "language_info": {
   "codemirror_mode": {
    "name": "ipython",
    "version": 3
   },
   "file_extension": ".py",
   "mimetype": "text/x-python",
   "name": "python",
   "nbconvert_exporter": "python",
   "pygments_lexer": "ipython3",
   "version": "3.13.7"
  }
 },
 "nbformat": 4,
 "nbformat_minor": 5
}
