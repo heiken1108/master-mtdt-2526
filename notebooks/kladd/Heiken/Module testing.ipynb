{
 "cells": [
  {
   "cell_type": "code",
   "execution_count": null,
   "id": "0",
   "metadata": {},
   "outputs": [],
   "source": [
    "%load_ext autoreload\n",
    "%autoreload 2\n",
    "\n",
    "figsize=(14, 4)\n",
    "import os\n",
    "import numpy as np\n",
    "import pandas as pd\n",
    "import matplotlib.pyplot as plt\n",
    "from utils import file, plot, data\n",
    "pd.set_option('display.max_columns', None)\n",
    "data_folder = os.path.join('../../..', 'data/prod')\n",
    "file_name_collection = \"Collection_data.csv\"\n",
    "file_path_collection = os.path.join(data_folder, file_name_collection)\n",
    "file_name_konto = \"Sample_0.01_konto_data.csv\"\n",
    "file_path_konto = os.path.join(data_folder, file_name_konto)"
   ]
  },
  {
   "cell_type": "code",
   "execution_count": null,
   "id": "1",
   "metadata": {},
   "outputs": [],
   "source": [
    "konto_frame = file.load_konto_data(file_path_konto)\n",
    "collection_frame = file.load_collection_data(file_path_collection)"
   ]
  },
  {
   "cell_type": "code",
   "execution_count": null,
   "id": "2",
   "metadata": {},
   "outputs": [],
   "source": [
    "konto_frame.head()"
   ]
  },
  {
   "cell_type": "code",
   "execution_count": null,
   "id": "3",
   "metadata": {},
   "outputs": [],
   "source": [
    "collection_frame.head()"
   ]
  },
  {
   "cell_type": "code",
   "execution_count": null,
   "id": "4",
   "metadata": {},
   "outputs": [],
   "source": [
    "konto_behav_frame = data.konto_behavioural_data(konto_frame)"
   ]
  },
  {
   "cell_type": "code",
   "execution_count": null,
   "id": "5",
   "metadata": {},
   "outputs": [],
   "source": [
    "konto_behav_frame[konto_behav_frame['PersonId'] == 341].head(40)"
   ]
  },
  {
   "cell_type": "code",
   "execution_count": null,
   "id": "6",
   "metadata": {},
   "outputs": [],
   "source": [
    "unique_konto = konto_behav_frame.groupby(\"PersonId\")[\"AccountId\"].unique().reset_index()\n",
    "unique_konto[unique_konto[\"AccountId\"].apply(lambda x: len(x) > 1)].head(40)"
   ]
  },
  {
   "cell_type": "code",
   "execution_count": null,
   "id": "7",
   "metadata": {},
   "outputs": [],
   "source": [
    "konto_behav_frame[konto_behav_frame['PersonId'] == 5133].head(40)"
   ]
  },
  {
   "cell_type": "code",
   "execution_count": null,
   "id": "8",
   "metadata": {},
   "outputs": [],
   "source": [
    "konto_trans_data = data.konto_transactional_data(konto_frame)"
   ]
  },
  {
   "cell_type": "code",
   "execution_count": null,
   "id": "9",
   "metadata": {},
   "outputs": [],
   "source": [
    "konto_trans_data.head(40)"
   ]
  },
  {
   "cell_type": "code",
   "execution_count": null,
   "id": "10",
   "metadata": {},
   "outputs": [],
   "source": [
    "konto_profile_frame = data.konto_profile_data(konto_frame)\n",
    "konto_profile_frame['GenderNum'] = konto_profile_frame['Gender'].map({'M ': 1, 'F ': 0})\n",
    "#konto_profile_frame['Gender'].unique()"
   ]
  },
  {
   "cell_type": "code",
   "execution_count": null,
   "id": "11",
   "metadata": {},
   "outputs": [],
   "source": [
    "konto_profile_frame.groupby('Gender')['CreditLimitAmt'].mean()"
   ]
  },
  {
   "cell_type": "code",
   "execution_count": null,
   "id": "12",
   "metadata": {},
   "outputs": [],
   "source": [
    "plot.correlation_matrix(konto_profile_frame, ['MonthsSinceAccountCreatedNum', 'CreditLimitAmt', 'GenderNum'])"
   ]
  },
  {
   "cell_type": "code",
   "execution_count": null,
   "id": "13",
   "metadata": {},
   "outputs": [],
   "source": [
    "plot.correlation_matrix(konto_behav_frame, ['BalanceAmt', 'CreditLimitAmt', 'TurnoverAmt', 'RevolvingFlag'])"
   ]
  },
  {
   "cell_type": "code",
   "execution_count": null,
   "id": "14",
   "metadata": {},
   "outputs": [],
   "source": [
    "konto_behav_frame.dtypes"
   ]
  },
  {
   "cell_type": "code",
   "execution_count": null,
   "id": "15",
   "metadata": {},
   "outputs": [],
   "source": [
    "plot.correlation_matrix(konto_behav_frame.drop(columns=['PersonId', 'AccountId', 'YearMonth', 'Last_Airlines', 'Last_Automobile / Vehicle Rental', 'Last_Contracted Services', 'Last_Government Services', 'Last_Hotels', 'Last_Professional Services and Membership Organizations', 'Last_Repair Services']))\n"
   ]
  },
  {
   "cell_type": "code",
   "execution_count": null,
   "id": "16",
   "metadata": {},
   "outputs": [],
   "source": [
    "kont_dat = file.load_konto_data(file_path_konto)"
   ]
  },
  {
   "cell_type": "code",
   "execution_count": null,
   "id": "17",
   "metadata": {},
   "outputs": [],
   "source": [
    "pd.set_option('display.max_rows', None)  # show all rows\n",
    "print(kont_dat.dtypes)\n",
    "pd.reset_option('display.max_rows')      # reset after"
   ]
  },
  {
   "cell_type": "code",
   "execution_count": null,
   "id": "18",
   "metadata": {},
   "outputs": [],
   "source": [
    "kont_dat['Gender'].unique()"
   ]
  },
  {
   "cell_type": "code",
   "execution_count": null,
   "id": "19",
   "metadata": {},
   "outputs": [],
   "source": [
    "kont_dat['SumL12_Service Providers'].isna().any()"
   ]
  },
  {
   "cell_type": "code",
   "execution_count": null,
   "id": "20",
   "metadata": {},
   "outputs": [],
   "source": [
    "col = 'Last_Business Services'\n",
    "kont_dat[col].max(), kont_dat[col].min()"
   ]
  },
  {
   "cell_type": "code",
   "execution_count": null,
   "id": "21",
   "metadata": {},
   "outputs": [],
   "source": [
    "file_path_full = os.path.join(data_folder, \"konto_data.csv\")\n",
    "file.print_n_raw_lines(file_path_full, 10)"
   ]
  },
  {
   "cell_type": "code",
   "execution_count": null,
   "id": "22",
   "metadata": {},
   "outputs": [],
   "source": []
  }
 ],
 "metadata": {
  "kernelspec": {
   "display_name": "venv (3.13.7)",
   "language": "python",
   "name": "python3"
  },
  "language_info": {
   "codemirror_mode": {
    "name": "ipython",
    "version": 3
   },
   "file_extension": ".py",
   "mimetype": "text/x-python",
   "name": "python",
   "nbconvert_exporter": "python",
   "pygments_lexer": "ipython3",
   "version": "3.13.7"
  }
 },
 "nbformat": 4,
 "nbformat_minor": 5
}
