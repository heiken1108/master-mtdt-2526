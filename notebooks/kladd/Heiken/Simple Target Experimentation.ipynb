{
 "cells": [
  {
   "cell_type": "code",
   "execution_count": null,
   "id": "0",
   "metadata": {},
   "outputs": [],
   "source": [
    "%load_ext autoreload\n",
    "%autoreload 2\n",
    "\n",
    "figsize=(14, 4)\n",
    "import os\n",
    "import numpy as np\n",
    "import pandas as pd\n",
    "import matplotlib.pyplot as plt\n",
    "from utils import file\n",
    "pd.set_option('display.max_columns', None)\n",
    "data_folder = os.path.join('../../..', 'data/prod')\n",
    "file_name_collection = \"Collection_data.csv\"\n",
    "file_path_collection = os.path.join(data_folder, file_name_collection)\n",
    "file_name_konto = \"Sample_0.05_konto_data.csv\"\n",
    "file_path_konto = os.path.join(data_folder, file_name_konto)"
   ]
  },
  {
   "cell_type": "code",
   "execution_count": null,
   "id": "1",
   "metadata": {},
   "outputs": [],
   "source": [
    "collection_frame = file.load_collection_data(file_path_collection)\n",
    "konto_frame = file.load_konto_data(file_path_konto)"
   ]
  },
  {
   "cell_type": "markdown",
   "id": "2",
   "metadata": {},
   "source": [
    "## Collection data\n",
    "Datasettet består av kolonnene\n",
    "- `yearmonth`: År og måned i formatet ÅÅÅÅMM\n",
    "- `collectionid`: ID for inkassosaken\n",
    "- `PersonId`: ID for person\n",
    "- `registreringsmaaned`: registreringsperiode for når sak ble sendt til inkasso i formatet ÅÅÅÅMM\n",
    "- `AccountId`: ID for konto\n",
    "- `producttype`: Produkttype\n",
    "- `productname`: Produktnavn\n",
    "- `CollectionOpenedDateId`: Dato for når sak ble sendt til inkasso\n",
    "- `CollectionClosedDateId`: Dato for når inkassosak ble lukket\n",
    "- `BalanceSentAmt`: Balanse som ble sendt til inkasso (Hovedstol)\n",
    "- `PaymentAmt`: Innbetalinger til Kredittbanken direkte  i perioden\n",
    "- `PaymentRTAmt`: Sum innbetalt til Kredittbanken direkte på sak totalt \n",
    "- `PrincipalPaymentAmt`: Innbetalinger via inkassoselskapet i perioden\n",
    "- `PrincipalPaymentRTAmt`: Sum innbetalinger gjort til inkassoselskapet totalt\n",
    "- `LossAmt`: Tapsført i perioden\n",
    "- `LossRTAmt`: Totalt tapsførst på sak\n",
    "- `MonthInDCA`: Antall måneder sak har ligget hos inkasso\n",
    "- `MonthsInZCOV`: Antall måneder sak har ligget til overvåk (tapsført)"
   ]
  },
  {
   "cell_type": "code",
   "execution_count": null,
   "id": "3",
   "metadata": {},
   "outputs": [],
   "source": [
    "collection_frame.head()"
   ]
  },
  {
   "cell_type": "markdown",
   "id": "4",
   "metadata": {},
   "source": [
    "## Konto data\n",
    "Datasett bestående av:\n",
    "- `YearMonth`: År og måned i formatet ÅÅÅÅMM\n",
    "- `PeriodId`: Siste dag i gitt periode i formatet ÅÅÅÅMMDD\n",
    "- `PersonId`: ID for person\n",
    "- `AccountId`: ID for konto\n",
    "- `ProductId`: ID for produkt\n",
    "- `DistributorId`: ID for distributør\n",
    "- `AgeGroup2`: Aldersgruppe\n",
    "- `Gender`: Kjønn\n",
    "- `kommunenr`: Kommunenummer\n",
    "- `kommunenavn`: Kommunenavn\n",
    "- `GeneralStatus`: Statuskode på konto\n",
    "- `GeneralStatusDesc`: Beskrivelse av statuskode på konto\n",
    "- `MonthsSinceAccountCreatedNum`: Antall måneder siden konto ble opprettet\n",
    "- `BalanceAmt`: Balanse\n",
    "- `InterestEarningLendingAmt`: Rentebærende balanse\n",
    "- `CreditLimitAmt`: Kredittgrense\n",
    "- `CreditLimitInceaseFlag`: 1 dersom det i perioden har blitt foretatt en kredittøkning\n",
    "- `CollectionFlag`: 1 dersom kontoen ligger til inkasso\n",
    "- `ClosedAccountFlag`: 1 dersom konto er avsluttet\n",
    "- `TurnoverAmt`: Beløp varekjøp\n",
    "- `TurnoverNum`: Antall varekjøpstransaksjoner\n",
    "- `TurnoverDomAmt`: Beløp varekjøp, innenlands\n",
    "- `TurnoverDomNum`: Antall varekjøpstransaksjoner, innenlands\n",
    "- `TurnoverIntAmt`: Beløp varekjøp, utenlands\n",
    "- `TurnoverIntNum`: Antall varekjøpstransaksjoner, utenlands\n",
    "- `FundtransferAmt`: Beløp overføring fra kort til konto\n",
    "- `FundtransferNum`: Antall overføringer fra kort til konto\n",
    "- `CashAtmAmt`: Kontanter minibank, beløp\n",
    "- `CashAtmNum`: Kontanter minibank, antall\n",
    "- `CashCounterAmt`: Kontanter skranke, beløp\n",
    "- `CashCounterNum`: Kontanter skranke, antall\n",
    "- `OverdueAmt`: Beløp som er forfalt\n",
    "- `StatementClosingBalanceAmt`: Balanse ved fakturakjøring\n",
    "- `StatementEffectivePaymentsAmt`: Innbetalinger mot fakturert beløp. Trekker fra det som eventuelt er betalt over skyldig beløp slik at innbetaling max kan være lik utestående\n",
    "- `StatementMinimumToPayAmt`: Minimumsbeløp på faktura\n",
    "- `PaymentOverDueFlag`: Betaling forfalt\n",
    "- `FullpayerFlag`: 1 dersom det ikke påløper rente på faktura som forfalt  i måneden (hele faktura er betalt)\n",
    "- `RevolvingFlag`: 1 dersom det påløper renter på fakturra som forfalt i denne måneden (ikke betalt hele utestående)\n",
    "- `MonthsInDCANum`: Antall måned til inkasso (Debt Collection Agency)\n",
    "- `MonthsInZCOVNum`: Antall måneder i overvåk\n",
    "- `ActiveFlag`: 1 dersom en aktiv konto\n",
    "- `CardUsedFlag`: 1 dersom kortet er brukt\n",
    "- `TransactionFlag`: 1 dersom det har vært transaksjoner på konto\n",
    "- `SumL12, L3 og L1`: Summer for de siste 12, 3 og 1 månedene for relevante kategorier"
   ]
  },
  {
   "cell_type": "code",
   "execution_count": null,
   "id": "5",
   "metadata": {},
   "outputs": [],
   "source": [
    "konto_frame.head()"
   ]
  },
  {
   "cell_type": "code",
   "execution_count": null,
   "id": "6",
   "metadata": {},
   "outputs": [],
   "source": [
    "unique_collection_PersonId = collection_frame['PersonId'].unique()\n",
    "len(unique_collection_PersonId)\n"
   ]
  },
  {
   "cell_type": "code",
   "execution_count": null,
   "id": "7",
   "metadata": {},
   "outputs": [],
   "source": [
    "unique_konto_frame_collection_personid = konto_frame[konto_frame[\"CollectionFlag\"] == 1][\"PersonId\"].unique()\n",
    "in_list = []\n",
    "for id in unique_konto_frame_collection_personid:\n",
    "\tin_list.append((id, id in unique_collection_PersonId))\n",
    "for i in in_list:\n",
    "\tprint(i)\n",
    "len(unique_konto_frame_collection_personid)"
   ]
  },
  {
   "cell_type": "code",
   "execution_count": null,
   "id": "8",
   "metadata": {},
   "outputs": [],
   "source": [
    "489/21402"
   ]
  },
  {
   "cell_type": "code",
   "execution_count": null,
   "id": "9",
   "metadata": {},
   "outputs": [],
   "source": []
  }
 ],
 "metadata": {
  "kernelspec": {
   "display_name": "venv (3.13.7)",
   "language": "python",
   "name": "python3"
  },
  "language_info": {
   "codemirror_mode": {
    "name": "ipython",
    "version": 3
   },
   "file_extension": ".py",
   "mimetype": "text/x-python",
   "name": "python",
   "nbconvert_exporter": "python",
   "pygments_lexer": "ipython3",
   "version": "3.13.7"
  }
 },
 "nbformat": 4,
 "nbformat_minor": 5
}
