{
 "cells": [
  {
   "cell_type": "markdown",
   "id": "0",
   "metadata": {},
   "source": [
    "# Inspeksjon av Collection-datasettet"
   ]
  },
  {
   "cell_type": "code",
   "execution_count": null,
   "id": "1",
   "metadata": {},
   "outputs": [],
   "source": [
    "%load_ext autoreload\n",
    "%autoreload 2\n",
    "\n",
    "figsize=(14, 4)\n",
    "import os\n",
    "import numpy as np\n",
    "import pandas as pd\n",
    "import matplotlib.pyplot as plt\n",
    "from utils import load_collection_data, pairplot\n",
    "pd.set_option('display.max_columns', None)\n",
    "data_folder = os.path.join('../../..', 'data/prod')\n",
    "file_name = \"Collection_data.csv\"\n",
    "file_path = os.path.join(data_folder, file_name)"
   ]
  },
  {
   "cell_type": "code",
   "execution_count": null,
   "id": "2",
   "metadata": {},
   "outputs": [],
   "source": [
    "df = load_collection_data(file_path)"
   ]
  },
  {
   "cell_type": "markdown",
   "id": "3",
   "metadata": {},
   "source": [
    "### Datasettet\n",
    "Datasettet består av kolonnene\n",
    "- `yearmonth`: År og måned i formatet ÅÅÅÅMM\n",
    "- `collectionid`: ID for inkassosaken\n",
    "- `PersonId`: ID for person\n",
    "- `registreringsmaaned`: registreringsperiode for når sak ble sendt til inkasso i formatet ÅÅÅÅMM\n",
    "- `AccountId`: ID for konto\n",
    "- `producttype`: Produkttype\n",
    "- `productname`: Produktnavn\n",
    "- `CollectionOpenedDateId`: Dato for når sak ble sendt til inkasso\n",
    "- `CollectionClosedDateId`: Dato for når inkassosak ble lukket\n",
    "- `BalanceSentAmt`: Balanse som ble sendt til inkasso (Hovedstol)\n",
    "- `PaymentAmt`: Innbetalinger til Kredittbanken direkte  i perioden\n",
    "- `PaymentRTAmt`: Sum innbetalt til Kredittbanken direkte på sak totalt \n",
    "- `PrincipalPaymentAmt`: Innbetalinger via inkassoselskapet i perioden\n",
    "- `PrincipalPaymentRTAmt`: Sum innbetalinger gjort til inkassoselskapet totalt\n",
    "- `LossAmt`: Tapsført i perioden\n",
    "- `LossRTAmt`: Totalt tapsførst på sak\n",
    "- `MonthInDCA`: Antall måneder sak har ligget hos inkasso\n",
    "- `MonthsInZCOV`: Antall måneder sak har ligget til overvåk (tapsført)"
   ]
  },
  {
   "cell_type": "code",
   "execution_count": null,
   "id": "4",
   "metadata": {},
   "outputs": [],
   "source": [
    "df[\"PersonId\"].unique()"
   ]
  },
  {
   "cell_type": "code",
   "execution_count": null,
   "id": "5",
   "metadata": {},
   "outputs": [],
   "source": [
    "pairplot(df, ['BalanceSentAmt', 'LossRTAmt', 'PrincipalPaymentRTAmt'])"
   ]
  },
  {
   "cell_type": "code",
   "execution_count": null,
   "id": "6",
   "metadata": {},
   "outputs": [],
   "source": [
    "df.describe()"
   ]
  },
  {
   "cell_type": "code",
   "execution_count": null,
   "id": "7",
   "metadata": {},
   "outputs": [],
   "source": [
    "df = df.sort_values(by=[\"PersonId\", \"yearmonth\"], ascending=True)\n",
    "df.head(30)"
   ]
  },
  {
   "cell_type": "code",
   "execution_count": null,
   "id": "8",
   "metadata": {},
   "outputs": [],
   "source": [
    "#df['Status'] = np.where(df['LossRTAmt'].isna(), 'PENDING', 'COMPLETED')\n",
    "df['Status'] = np.where(df['CollectionClosedDateId'].isna(), 'PENDING', 'COMPLETED')"
   ]
  },
  {
   "cell_type": "code",
   "execution_count": null,
   "id": "9",
   "metadata": {},
   "outputs": [],
   "source": [
    "df = df.groupby(['PersonId', 'collectionid'], as_index=False).tail(1)\n",
    "df.head(40)"
   ]
  },
  {
   "cell_type": "code",
   "execution_count": null,
   "id": "10",
   "metadata": {},
   "outputs": [],
   "source": [
    "df['Loss'] = (df['LossRTAmt']/df['BalanceSentAmt'] * -1 * 100).round(2)\n",
    "df[df['Status']=='COMPLETED'].head(40)"
   ]
  },
  {
   "cell_type": "code",
   "execution_count": null,
   "id": "11",
   "metadata": {},
   "outputs": [],
   "source": [
    "figsize = (12,5)\n",
    "fig, axes = plt.subplots(1, 2, figsize=figsize)\n",
    "\n",
    "# First plot: 0 to 110\n",
    "min1, max1 = 0, 110\n",
    "bins1 = 25\n",
    "loss_data1 = df['Loss'][(df['Loss'] >= min1) & (df['Loss'] <= max1)]\n",
    "\n",
    "axes[0].hist(loss_data1, bins=bins1, range=(min1, max1), edgecolor='black')\n",
    "axes[0].set_title(f'Distribution of Loss (%) from {min1}% to {max1}%')\n",
    "axes[0].set_xlabel('Loss (%)')\n",
    "axes[0].set_ylabel('Count')\n",
    "axes[0].grid(axis='y', alpha=0.75)\n",
    "\n",
    "# Second plot: 1 to 99\n",
    "min2, max2 = 1, 99\n",
    "bins2 = 25\n",
    "loss_data2 = df['Loss'][(df['Loss'] >= min2) & (df['Loss'] <= max2)]\n",
    "\n",
    "axes[1].hist(loss_data2, bins=bins2, range=(min2, max2), edgecolor='black')\n",
    "axes[1].set_title(f'Distribution of Loss (%) from {min2}% to {max2}%')\n",
    "axes[1].set_xlabel('Loss (%)')\n",
    "axes[1].set_ylabel('Count')\n",
    "axes[1].grid(axis='y', alpha=0.75)\n",
    "\n",
    "plt.tight_layout()\n",
    "plt.show()\n",
    "\n"
   ]
  },
  {
   "cell_type": "code",
   "execution_count": null,
   "id": "12",
   "metadata": {},
   "outputs": [],
   "source": [
    "df[df[\"PersonId\"] == 7216].head(20)"
   ]
  },
  {
   "cell_type": "code",
   "execution_count": null,
   "id": "13",
   "metadata": {},
   "outputs": [],
   "source": [
    "col_dat = load_collection_data(file_path)"
   ]
  },
  {
   "cell_type": "code",
   "execution_count": null,
   "id": "14",
   "metadata": {},
   "outputs": [],
   "source": [
    "col_dat.head(40)"
   ]
  },
  {
   "cell_type": "code",
   "execution_count": null,
   "id": "15",
   "metadata": {},
   "outputs": [],
   "source": [
    "pd.set_option('display.max_rows', None)  # show all rows\n",
    "print(col_dat.dtypes)\n",
    "pd.reset_option('display.max_rows')"
   ]
  },
  {
   "cell_type": "code",
   "execution_count": null,
   "id": "16",
   "metadata": {},
   "outputs": [],
   "source": [
    "col = \"MonthsInZCOV\"\n",
    "col_dat[col].unique()"
   ]
  },
  {
   "cell_type": "code",
   "execution_count": null,
   "id": "17",
   "metadata": {},
   "outputs": [],
   "source": [
    "col_dat[col].isna().any()"
   ]
  },
  {
   "cell_type": "code",
   "execution_count": null,
   "id": "18",
   "metadata": {},
   "outputs": [],
   "source": [
    "col_dat[\"BalanceSentAmt\"].max()"
   ]
  },
  {
   "cell_type": "code",
   "execution_count": null,
   "id": "19",
   "metadata": {},
   "outputs": [],
   "source": []
  }
 ],
 "metadata": {
  "kernelspec": {
   "display_name": "venv (3.13.7)",
   "language": "python",
   "name": "python3"
  },
  "language_info": {
   "codemirror_mode": {
    "name": "ipython",
    "version": 3
   },
   "file_extension": ".py",
   "mimetype": "text/x-python",
   "name": "python",
   "nbconvert_exporter": "python",
   "pygments_lexer": "ipython3",
   "version": "3.13.7"
  }
 },
 "nbformat": 4,
 "nbformat_minor": 5
}
