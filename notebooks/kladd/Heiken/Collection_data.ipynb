{
 "cells": [
  {
   "cell_type": "markdown",
   "id": "0",
   "metadata": {},
   "source": [
    "# Inspeksjon av Collection-datasettet"
   ]
  },
  {
   "cell_type": "code",
   "execution_count": null,
   "id": "1",
   "metadata": {},
   "outputs": [],
   "source": [
    "#Notebook config\n",
    "%load_ext autoreload\n",
    "%autoreload 2\n",
    "\n",
    "figsize=(14, 4)\n",
    "import os\n",
    "import numpy as np\n",
    "import pandas as pd\n",
    "import matplotlib.pyplot as plt\n",
    "pd.set_option('display.max_columns', None)\n",
    "data_folder = os.path.join('../../..', 'data/prod')\n",
    "file_name = \"Collection_data.csv\"\n",
    "file_path = os.path.join(data_folder, file_name)"
   ]
  },
  {
   "cell_type": "code",
   "execution_count": null,
   "id": "2",
   "metadata": {},
   "outputs": [],
   "source": [
    "df = pd.read_csv(file_path, sep=';', decimal=',')"
   ]
  },
  {
   "cell_type": "markdown",
   "id": "3",
   "metadata": {},
   "source": [
    "### Datasettet\n",
    "Datasettet består av kolonnene\n",
    "- `yearmonth`: År og måned i formatet ÅÅÅÅMM\n",
    "- `collectionid`: ID for inkassosaken\n",
    "- `PersonId`: ID for person\n",
    "- `registreringsmaaned`: registreringsperiode for når sak ble sendt til inkasso i formatet ÅÅÅÅMM\n",
    "- `AccountId`: ID for konto\n",
    "- `producttype`: Produkttype\n",
    "- `productname`: Produktnavn\n",
    "- `CollectionOpenedDateId`: Dato for når sak ble sendt til inkasso\n",
    "- `CollectionClosedDateId`: Dato for når inkassosak ble lukket\n",
    "- `BalanceSentAmt`: Balanse som ble sendt til inkasso (Hovedstol)\n",
    "- `PaymentAmt`: Innbetalinger til Kredittbanken direkte  i perioden\n",
    "- `PaymentRTAmt`: Sum innbetalt til Kredittbanken direkte på sak totalt \n",
    "- `PrincipalPaymentAmt`: Innbetalinger via inkassoselskapet i perioden\n",
    "- `PrincipalPaymentRTAmt`: Sum innbetalinger gjort til inkassoselskapet totalt\n",
    "- `LossAmt`: Tapsført i perioden\n",
    "- `LossRTAmt`: Totalt tapsførst på sak\n",
    "- `MonthInDCA`: Antall måneder sak har ligget hos inkasso\n",
    "- `MonthsInZCOV`: Antall måneder sak har ligget til overvåk (tapsført)"
   ]
  },
  {
   "cell_type": "code",
   "execution_count": null,
   "id": "4",
   "metadata": {},
   "outputs": [],
   "source": [
    "df.head()"
   ]
  },
  {
   "cell_type": "code",
   "execution_count": null,
   "id": "5",
   "metadata": {},
   "outputs": [],
   "source": [
    "df.describe()"
   ]
  },
  {
   "cell_type": "code",
   "execution_count": null,
   "id": "6",
   "metadata": {},
   "outputs": [],
   "source": [
    "df = df.sort_values(by=[\"PersonId\", \"yearmonth\"], ascending=True)\n",
    "df[df['PersonId'] == 214].head(100)"
   ]
  },
  {
   "cell_type": "code",
   "execution_count": null,
   "id": "7",
   "metadata": {},
   "outputs": [],
   "source": []
  }
 ],
 "metadata": {
  "kernelspec": {
   "display_name": "venv (3.13.7)",
   "language": "python",
   "name": "python3"
  },
  "language_info": {
   "codemirror_mode": {
    "name": "ipython",
    "version": 3
   },
   "file_extension": ".py",
   "mimetype": "text/x-python",
   "name": "python",
   "nbconvert_exporter": "python",
   "pygments_lexer": "ipython3",
   "version": "3.13.7"
  }
 },
 "nbformat": 4,
 "nbformat_minor": 5
}
